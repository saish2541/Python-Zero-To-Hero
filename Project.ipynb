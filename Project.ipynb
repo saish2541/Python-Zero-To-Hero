{
  "nbformat": 4,
  "nbformat_minor": 0,
  "metadata": {
    "colab": {
      "name": "Rough Book.ipynb",
      "provenance": []
    },
    "kernelspec": {
      "name": "python3",
      "display_name": "Python 3"
    },
    "language_info": {
      "name": "python"
    }
  },
  "cells": [
    {
      "cell_type": "code",
      "metadata": {
        "id": "PfscCEcgHD6C",
        "colab": {
          "base_uri": "https://localhost:8080/"
        },
        "outputId": "03f49bda-b562-4655-9b66-0602e57f44f6"
      },
      "source": [
        "import random\n",
        "import string\n",
        "ID=''\n",
        "characters=list(string.ascii_letters+string.digits)\n",
        "for i in range(6):\n",
        "  ID+=random.choice(characters)\n",
        "print(\"6 characters ID is:\",ID)"
      ],
      "execution_count": 5,
      "outputs": [
        {
          "output_type": "stream",
          "text": [
            "6 characters ID is: mxmllD\n"
          ],
          "name": "stdout"
        }
      ]
    },
    {
      "cell_type": "code",
      "metadata": {
        "id": "EX49N2IUYiLx"
      },
      "source": [
        ""
      ],
      "execution_count": null,
      "outputs": []
    }
  ]
}