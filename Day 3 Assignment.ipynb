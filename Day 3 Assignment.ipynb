{
  "nbformat": 4,
  "nbformat_minor": 0,
  "metadata": {
    "colab": {
      "name": "Untitled1.ipynb",
      "provenance": []
    },
    "kernelspec": {
      "name": "python3",
      "display_name": "Python 3"
    },
    "language_info": {
      "name": "python"
    }
  },
  "cells": [
    {
      "cell_type": "code",
      "metadata": {
        "colab": {
          "base_uri": "https://localhost:8080/"
        },
        "id": "IJdYSDGWL0oK",
        "outputId": "e6ecf39a-1b18-4a0d-d8f5-d310c912fbdb"
      },
      "source": [
        "# Assignment - Implement a decorator mod_div() which assures that the numerator is always greater than the denominator\n",
        "# e.g. if a = 2, b = 4, then div(a, b) should return 2.0 as the output and not 0.5\n",
        "\n",
        "def div(a,b):\n",
        "  print(a/b)\n",
        "\n",
        "def mod_div(ans):\n",
        "  def inner(a,b):\n",
        "    if a<b:\n",
        "      a,b=b,a\n",
        "    ans(a,b)\n",
        "  return inner\n",
        "\n",
        "div=mod_div(div)\n",
        "\n",
        "div(7,14)\n",
        "\n"
      ],
      "execution_count": 3,
      "outputs": [
        {
          "output_type": "stream",
          "text": [
            "2.0\n"
          ],
          "name": "stdout"
        }
      ]
    },
    {
      "cell_type": "code",
      "metadata": {
        "id": "4Njw2gFxMlq9"
      },
      "source": [
        ""
      ],
      "execution_count": null,
      "outputs": []
    }
  ]
}