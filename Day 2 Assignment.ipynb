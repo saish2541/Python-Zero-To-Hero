{
  "nbformat": 4,
  "nbformat_minor": 0,
  "metadata": {
    "colab": {
      "name": "Untitled2.ipynb",
      "provenance": []
    },
    "kernelspec": {
      "name": "python3",
      "display_name": "Python 3"
    },
    "language_info": {
      "name": "python"
    }
  },
  "cells": [
    {
      "cell_type": "code",
      "metadata": {
        "colab": {
          "base_uri": "https://localhost:8080/"
        },
        "id": "dFVHLSnW4XFm",
        "outputId": "86abe49e-9b5a-40e4-f742-73f68a945c83"
      },
      "source": [
        "st= input(\"Enter the string: \")\n",
        "res = {}\n",
        "for keys in st:\n",
        "\tres[keys] = res.get(keys, 0) + 1\n",
        "print (\"Number of occurrences is :\"+ str(res))"
      ],
      "execution_count": 2,
      "outputs": [
        {
          "output_type": "stream",
          "text": [
            "Enter the string: television\n",
            "Number of occurrences is :{'t': 1, 'e': 2, 'l': 1, 'v': 1, 'i': 2, 's': 1, 'o': 1, 'n': 1}\n"
          ],
          "name": "stdout"
        }
      ]
    },
    {
      "cell_type": "code",
      "metadata": {
        "id": "7-dcFFym4cAf"
      },
      "source": [
        ""
      ],
      "execution_count": null,
      "outputs": []
    }
  ]
}