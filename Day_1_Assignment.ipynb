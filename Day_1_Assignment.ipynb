{
  "nbformat": 4,
  "nbformat_minor": 0,
  "metadata": {
    "colab": {
      "name": "Day 1 Assignment.ipynb",
      "provenance": []
    },
    "kernelspec": {
      "name": "python3",
      "display_name": "Python 3"
    },
    "language_info": {
      "name": "python"
    }
  },
  "cells": [
    {
      "cell_type": "code",
      "metadata": {
        "colab": {
          "base_uri": "https://localhost:8080/"
        },
        "id": "_sCTuAJ6mWX_",
        "outputId": "6676f48a-5adf-4f79-fcce-a378440965ee"
      },
      "source": [
        "# Take two inputs and store in variable x and y, print the result of x to the power y.\n",
        "x=int(input(\"Enter first number:\"))\n",
        "y=int(input(\"Enter second number:\"))\n",
        "z=pow(x,y)\n",
        "print(f\"{x} to the power {y} is: \",z)"
      ],
      "execution_count": 2,
      "outputs": [
        {
          "output_type": "stream",
          "text": [
            "Enter first number:5\n",
            "Enter second number:3\n",
            "5 to the power 3 is:  125\n"
          ],
          "name": "stdout"
        }
      ]
    },
    {
      "cell_type": "code",
      "metadata": {
        "id": "C7s8XPDem6TS"
      },
      "source": [
        ""
      ],
      "execution_count": null,
      "outputs": []
    }
  ]
}